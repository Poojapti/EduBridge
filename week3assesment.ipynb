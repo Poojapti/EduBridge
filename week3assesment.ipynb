{
 "cells": [
  {
   "cell_type": "markdown",
   "id": "86638ae1-625d-4f89-8b65-eb04ca774aa5",
   "metadata": {},
   "source": [
    "Q1.Calculate the Salary using Python Programming\n",
    "\n",
    "Read the question carefully and follow the input and output format. \n",
    "\n",
    "Karen got salary for this month and she spends 20% of her salary for food, 10% of her salary for entertainment and 10% of her salary for travel.If she takes care of other shifts she will get 4% of the salary per day. Given her salary and the number of shifts she handled.Calculate how much she can save in her pocket after spending all these?\n",
    "\n",
    "Input and Output Format : First line of input consists of an integer, salary. Next line correspond to the number of shifts. Output consist of an integer, \n",
    "which is saving.\n",
    " 1. Print \"Salary too large\" when salary is greater than 10000. \n",
    " 2. Print \"Shifts too small\" when the shift is less than 0. \n",
    " 3. Print \"Salary too small\" when the salary is less than 0.\n",
    "Include a function named calculateSal(salary,shifts)  to calcuate salary and print saving.\n",
    "\n",
    "- Sample Input 1:\n",
    "  7000\n",
    "  5\n",
    "  Sample Output 1:\n",
    "  4200\n",
    "- Sample Input 2:\n",
    "  80000\n",
    "  Sample Output 2:\n",
    "  Salary too large\n",
    "- Sample Input 2:\n",
    "  6000\n",
    "  -1\n",
    "  Sample Output 2:\n",
    "  Shift too small"
   ]
  },
  {
   "cell_type": "code",
   "execution_count": 16,
   "id": "15651468-9ca2-466d-803c-c3763b588932",
   "metadata": {},
   "outputs": [
    {
     "name": "stdin",
     "output_type": "stream",
     "text": [
      " 7000\n",
      " 5\n"
     ]
    },
    {
     "name": "stdout",
     "output_type": "stream",
     "text": [
      "2800.0\n",
      "5600.0\n"
     ]
    }
   ],
   "source": [
    "def calculatesal(salary,shift):\n",
    "    if salary>10000:\n",
    "        print(\"Salary too large\" )\n",
    "    elif salary<=0:\n",
    "            print(\"Salary too small\")  \n",
    "    elif shift<0:\n",
    "            print(\"Shifts too small\")\n",
    "    else:\n",
    "        spend=salary*40/100 #20% of her salary for food, 10% of her salary for entertainment and 10% of her salary for travel,20+10+20=40%\n",
    "        print(spend)\n",
    "        saving=(salary+salary*4/100*shift)-spend\n",
    "        print(saving)\n",
    "\n",
    "salary=int(input())\n",
    "shift=int(input())\n",
    "calculatesal(salary,shift)\n"
   ]
  },
  {
   "cell_type": "markdown",
   "id": "9a62429a-157c-4cff-9ce4-8d59655b20b1",
   "metadata": {},
   "source": [
    "Q2.write python code to read n as integer,from STDIN. For all non-negative integers i<n ,print i**2.\n",
    "\n",
    "Example\n",
    "The list of non-negative integers that are less than n=3 is[0,1,2]. Print the square of each number on a separate line.\n",
    "0\n",
    "1\n",
    "4\n",
    "\n",
    "Input Format\n",
    "The first and only line contains the integer,n .\n",
    "Output Format\n",
    "Print n lines, one corresponding to each i .\n",
    "\n",
    "\n",
    "Sample Input \n",
    "5\n",
    "Sample Output \n",
    "0\n",
    "1\n",
    "4\n",
    "9\n",
    "16"
   ]
  },
  {
   "cell_type": "code",
   "execution_count": 24,
   "id": "8794c98a-24ef-49a7-9f37-0dff52060335",
   "metadata": {},
   "outputs": [
    {
     "name": "stdin",
     "output_type": "stream",
     "text": [
      " 5\n"
     ]
    },
    {
     "name": "stdout",
     "output_type": "stream",
     "text": [
      "0\n",
      "1\n",
      "4\n",
      "9\n",
      "16\n"
     ]
    }
   ],
   "source": [
    "n=int(input())\n",
    "if n<0: \n",
    "    print('please enter valid number')\n",
    "else:\n",
    "    for i in range(0,n):\n",
    "        print(i**2)\n"
   ]
  },
  {
   "cell_type": "markdown",
   "id": "08d56c6b-5114-47c1-9087-bbf87a14372f",
   "metadata": {},
   "source": [
    "Q3.An extra day is added to the calendar almost every four years as February 29, and the day is called a leap day. It corrects the calendar for the fact that our planet takes approximately 365.25 days to orbit the sun. A leap year contains a leap day.\n",
    "\n",
    "In the Gregorian calendar, three conditions are used to identify leap years:\n",
    "The year can be evenly divided by 4, is a leap year, unless:\n",
    "The year can be evenly divided by 100, it is NOT a leap year, unless:\n",
    "The year is also evenly divisible by 400. Then it is a leap year.\n",
    "This means that in the Gregorian calendar, the years 2000 and 2400 are leap years, while 1800, 1900, 2100, 2200, 2300 and 2500 are NOT leap years. Source\n",
    "\n",
    "Task\n",
    "Given a year, determine whether it is a leap year. If it is a leap year, return the Boolean True, otherwise return False.\n",
    "\n",
    "Note that the code stub provided reads from STDIN and passes arguments to the is_leap function. It is only necessary to complete the is_leap function.\n",
    "\n",
    "Input Format\n",
    "Read , the year as integer to test.\n",
    "Output Format\n",
    "The function must return a Boolean value (True/False)\n",
    "\n",
    "Sample Input \n",
    "1990\n",
    "Sample Output \n",
    "False"
   ]
  },
  {
   "cell_type": "code",
   "execution_count": 34,
   "id": "d7278934-67af-459b-8610-cf1896a82a3d",
   "metadata": {},
   "outputs": [
    {
     "name": "stdin",
     "output_type": "stream",
     "text": [
      " 2500\n"
     ]
    },
    {
     "name": "stdout",
     "output_type": "stream",
     "text": [
      "False\n"
     ]
    }
   ],
   "source": [
    "def is_leap(year):\n",
    "    \n",
    "    if( (year%4==0)&(year%100!=0) or(year%400==0)):\n",
    "        return True\n",
    "    \n",
    "    else:\n",
    "        return False\n",
    "year=int(input())\n",
    "print(is_leap(year))\n"
   ]
  },
  {
   "cell_type": "code",
   "execution_count": null,
   "id": "7beaea8c-e349-443d-8f92-4cbd4bee9100",
   "metadata": {},
   "outputs": [],
   "source": []
  }
 ],
 "metadata": {
  "kernelspec": {
   "display_name": "Python 3 (ipykernel)",
   "language": "python",
   "name": "python3"
  },
  "language_info": {
   "codemirror_mode": {
    "name": "ipython",
    "version": 3
   },
   "file_extension": ".py",
   "mimetype": "text/x-python",
   "name": "python",
   "nbconvert_exporter": "python",
   "pygments_lexer": "ipython3",
   "version": "3.9.7"
  }
 },
 "nbformat": 4,
 "nbformat_minor": 5
}
