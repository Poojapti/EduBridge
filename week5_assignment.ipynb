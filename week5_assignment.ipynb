{
 "cells": [
  {
   "cell_type": "markdown",
   "id": "5ace435d-1309-4493-ad2a-82aa7e54c9d2",
   "metadata": {},
   "source": [
    "Q.1 Problem Statements:\n",
    "Create a python program for taking user notes in text file. When a user starts it up, it should prompt them for a filename.\n",
    "If they enter a file name that doesn't exist, it should prompt them to enter the text they want to write to the file.\n",
    "After they enter the text, it should save the file and exit.If they enter a file name that already exists, \n",
    "it should ask the user if they want:\n",
    "A) Read the file\n",
    "B) Append the file\n",
    "C) Delete the file and start over\n",
    "\n",
    "If the user wants to read the file it should simply show the contents of the file on the screen.\n",
    "If the user wants to start over then the file should be deleted and another empty one made in its place.\n",
    "If a user elects to append the file, then they should be able to enter more text, \n",
    "and that text should be added to the existing text in the file.\n",
    "\n",
    "Note:\n",
    "    The software Development Team created partial python code for the above problem statement, you try to help them to complete the code wherever required and produce successful output"
   ]
  },
  {
   "cell_type": "code",
   "execution_count": null,
   "id": "9cd5be43-840f-43a7-bfc0-1a298cd59495",
   "metadata": {},
   "outputs": [],
   "source": []
  },
  {
   "cell_type": "code",
   "execution_count": 1,
   "id": "3621b607-0e2c-4d71-842a-8c25cf9860b8",
   "metadata": {},
   "outputs": [
    {
     "name": "stdin",
     "output_type": "stream",
     "text": [
      "Enter The File Name :  emp\n"
     ]
    },
    {
     "name": "stdout",
     "output_type": "stream",
     "text": [
      "Looking for file:emp.txt\n",
      "Found it\n"
     ]
    },
    {
     "name": "stdin",
     "output_type": "stream",
     "text": [
      "Enter the possible file operation: read, append, delete, replace\n",
      " read\n"
     ]
    },
    {
     "name": "stdout",
     "output_type": "stream",
     "text": [
      "EMPLOYEE_ID,FIRST_NAME,LAST_NAME,EMAIL,PHONE_NUMBER,HIRE_DATE,JOB_ID,SALARY,COMMISSION_PCT,MANAGER_ID,DEPARTMENT_ID\n",
      "198,Donald,OConnell,DOCONNEL,650.507.9833,21-JUN-07,SH_CLERK,2600, - ,124,50\n",
      "199,Douglas,Grant,DGRANT,650.507.9844,13-JAN-08,SH_CLERK,2600, - ,124,50\n",
      "200,Jennifer,Whalen,JWHALEN,515.123.4444,17-SEP-03,AD_ASST,4400, - ,101,10\n",
      "201,Michael,Hartstein,MHARTSTE,515.123.5555,17-FEB-04,MK_MAN,13000, - ,100,20\n",
      "202,Pat,Fay,PFAY,603.123.6666,17-AUG-05,MK_REP,6000, - ,201,20\n",
      "203,Susan,Mavris,SMAVRIS,515.123.7777,07-JUN-02,HR_REP,6500, - ,101,40\n",
      "204,Hermann,Baer,HBAER,515.123.8888,07-JUN-02,PR_REP,10000, - ,101,70\n",
      "205,Shelley,Higgins,SHIGGINS,515.123.8080,07-JUN-02,AC_MGR,12008, - ,101,110\n",
      "206,William,Gietz,WGIETZ,515.123.8181,07-JUN-02,AC_ACCOUNT,8300, - ,205,110\n",
      "100,Steven,King,SKING,515.123.4567,17-JUN-03,AD_PRES,24000, - , - ,90\n",
      "101,Neena,Kochhar,NKOCHHAR,515.123.4568,21-SEP-05,AD_VP,17000, - ,100,90\n",
      "102,Lex,De Haan,LDEHAAN,515.123.4569,13-JAN-01,AD_VP,17000, - ,100,90\n",
      "103,Alexander,Hunold,AHUNOLD,590.423.4567,03-JAN-06,IT_PROG,9000, - ,102,60\n",
      "104,Bruce,Ernst,BERNST,590.423.4568,21-MAY-07,IT_PROG,6000, - ,103,60\n",
      "105,David,Austin,DAUSTIN,590.423.4569,25-JUN-05,IT_PROG,4800, - ,103,60\n",
      "106,Valli,Pataballa,VPATABAL,590.423.4560,05-FEB-06,IT_PROG,4800, - ,103,60\n",
      "107,Diana,Lorentz,DLORENTZ,590.423.5567,07-FEB-07,IT_PROG,4200, - ,103,60\n",
      "108,Nancy,Greenberg,NGREENBE,515.124.4569,17-AUG-02,FI_MGR,12008, - ,101,100\n",
      "109,Daniel,Faviet,DFAVIET,515.124.4169,16-AUG-02,FI_ACCOUNT,9000, - ,108,100\n",
      "110,John,Chen,JCHEN,515.124.4269,28-SEP-05,FI_ACCOUNT,8200, - ,108,100\n",
      "111,Ismael,Sciarra,ISCIARRA,515.124.4369,30-SEP-05,FI_ACCOUNT,7700, - ,108,100\n",
      "112,Jose Manuel,Urman,JMURMAN,515.124.4469,07-MAR-06,FI_ACCOUNT,7800, - ,108,100\n",
      "113,Luis,Popp,LPOPP,515.124.4567,07-DEC-07,FI_ACCOUNT,6900, - ,108,100\n",
      "114,Den,Raphaely,DRAPHEAL,515.127.4561,07-DEC-02,PU_MAN,11000, - ,100,30\n",
      "115,Alexander,Khoo,AKHOO,515.127.4562,18-MAY-03,PU_CLERK,3100, - ,114,30\n",
      "116,Shelli,Baida,SBAIDA,515.127.4563,24-DEC-05,PU_CLERK,2900, - ,114,30\n",
      "117,Sigal,Tobias,STOBIAS,515.127.4564,24-JUL-05,PU_CLERK,2800, - ,114,30\n",
      "118,Guy,Himuro,GHIMURO,515.127.4565,15-NOV-06,PU_CLERK,2600, - ,114,30\n",
      "119,Karen,Colmenares,KCOLMENA,515.127.4566,10-AUG-07,PU_CLERK,2500, - ,114,30\n",
      "120,Matthew,Weiss,MWEISS,650.123.1234,18-JUL-04,ST_MAN,8000, - ,100,50\n",
      "121,Adam,Fripp,AFRIPP,650.123.2234,10-APR-05,ST_MAN,8200, - ,100,50\n",
      "122,Payam,Kaufling,PKAUFLIN,650.123.3234,01-MAY-03,ST_MAN,7900, - ,100,50\n",
      "123,Shanta,Vollman,SVOLLMAN,650.123.4234,10-OCT-05,ST_MAN,6500, - ,100,50\n",
      "124,Kevin,Mourgos,KMOURGOS,650.123.5234,16-NOV-07,ST_MAN,5800, - ,100,50\n",
      "125,Julia,Nayer,JNAYER,650.124.1214,16-JUL-05,ST_CLERK,3200, - ,120,50\n",
      "126,Irene,Mikkilineni,IMIKKILI,650.124.1224,28-SEP-06,ST_CLERK,2700, - ,120,50\n",
      "127,James,Landry,JLANDRY,650.124.1334,14-JAN-07,ST_CLERK,2400, - ,120,50\n",
      "128,Steven,Markle,SMARKLE,650.124.1434,08-MAR-08,ST_CLERK,2200, - ,120,50\n",
      "129,Laura,Bissot,LBISSOT,650.124.5234,20-AUG-05,ST_CLERK,3300, - ,121,50\n",
      "130,Mozhe,Atkinson,MATKINSO,650.124.6234,30-OCT-05,ST_CLERK,2800, - ,121,50\n",
      "131,James,Marlow,JAMRLOW,650.124.7234,16-FEB-05,ST_CLERK,2500, - ,121,50\n",
      "132,TJ,Olson,TJOLSON,650.124.8234,10-APR-07,ST_CLERK,2100, - ,121,50\n",
      "133,Jason,Mallin,JMALLIN,650.127.1934,14-JUN-04,ST_CLERK,3300, - ,122,50\n",
      "134,Michael,Rogers,MROGERS,650.127.1834,26-AUG-06,ST_CLERK,2900, - ,122,50\n",
      "135,Ki,Gee,KGEE,650.127.1734,12-DEC-07,ST_CLERK,2400, - ,122,50\n",
      "136,Hazel,Philtanker,HPHILTAN,650.127.1634,06-FEB-08,ST_CLERK,2200, - ,122,50\n",
      "137,Renske,Ladwig,RLADWIG,650.121.1234,14-JUL-03,ST_CLERK,3600, - ,123,50\n",
      "138,Stephen,Stiles,SSTILES,650.121.2034,26-OCT-05,ST_CLERK,3200, - ,123,50\n",
      "139,John,Seo,JSEO,650.121.2019,12-FEB-06,ST_CLERK,2700, - ,123,50\n",
      "140,Joshua,Patel,JPATEL,650.121.1834,06-APR-06,ST_CLERK,2500, - ,123,50\n",
      "\n"
     ]
    }
   ],
   "source": [
    "import os\n",
    "filename=input(\"Enter The File Name : \")\n",
    "# Here we check if the file exists\n",
    "if os.path.isfile('./'+filename+\".txt\"):\n",
    "    print(f\"Looking for file:{filename}.txt\")\n",
    "    print(\"Found it\")\n",
    "    action = input(\"Enter the possible file operation: read, append, delete, replace\\n\")\n",
    "    \n",
    "    if action==\"read\":\n",
    "        file=open(filename+\".txt\",'r')\n",
    "        print(file.read())\n",
    "        file.close()\n",
    "        \"\"\"To Do : write the code for file read operation\"\"\"\n",
    "    \n",
    "    elif action==\"append\":\n",
    "        file=open(filename+\".txt\",\"a\")\n",
    "        data=input(\"write the data:\")\n",
    "        file.write(data+\"\\n\")\n",
    "        file.close()\n",
    "        \"\"\"To Do : write the code for file append operation\"\"\"\n",
    "    \n",
    "    elif action == \"delete\":\n",
    "        os.remove(filename+\".txt\")\n",
    "        \"\"\"To Do : write the code for file delete and another empty one made in its place operation\"\"\"\n",
    "    \n",
    "    elif action == \"replace\":\n",
    "        file=open(filename+\".txt\",\"w\")\n",
    "        file.write(\"\")\n",
    "        file.close()\n",
    "        \n",
    "        \n",
    "    else:\n",
    "        print(\"Sorry, unrecognized action 😢\")\n",
    "\n",
    "else:\n",
    "    print(\"Nope, this file does not exist, I'm going to create it for you! 😄\")\n",
    "    file=open(filename+\".txt\",\"w\")\n",
    "    print(\"file created successfully.\")\n",
    "    data=input(\"write the data:\")\n",
    "    file.write(data+\"\\n\")\n",
    "    file.close()\n",
    "    \"\"\"To Do : write the code for file create and write the notes \"\"\""
   ]
  },
  {
   "cell_type": "markdown",
   "id": "45e51550-1bc5-49db-bf70-f7d19b324575",
   "metadata": {},
   "source": [
    "Q2.Text File Analytics:\n",
    "Q2.1 Assume you as Data Analyst, you need to collect all text file name from current working directory and store the all text file name into \n",
    "    \"txtfile_namelist.txt\" and read this file and print How many files are available in that namelist.\n",
    "\n"
   ]
  },
  {
   "cell_type": "code",
   "execution_count": 3,
   "id": "31652898-7b2c-4b31-b910-3f1fd55f559a",
   "metadata": {},
   "outputs": [
    {
     "name": "stdout",
     "output_type": "stream",
     "text": [
      "emp.txt\n",
      "\n",
      "kl.txt\n",
      "\n",
      "stock1.txt\n",
      "\n",
      "txtfile_namelist.txt\n",
      "\n",
      "weather.txt\n",
      "\n",
      "Number of text files in the current working directory : 5\n"
     ]
    }
   ],
   "source": [
    "import os\n",
    "count=0\n",
    "file=open(\"txtfile_namelist.txt\",'w+')\n",
    "for i in os.listdir():\n",
    "    if i.endswith(\".txt\"):\n",
    "        file.write(i+\"\\n\")\n",
    "file.seek(0)\n",
    "for j in file.readlines():\n",
    "    print(j)\n",
    "    count+=1\n",
    "file.close()\n",
    "print(f\"Number of text files in the current working directory : {count}\")"
   ]
  },
  {
   "cell_type": "markdown",
   "id": "f1cdc108-7640-4603-8c8d-d12ecb0f57e1",
   "metadata": {},
   "source": [
    "Q2.2 write the following contents to zenofpython.txt\n",
    "content:\n",
    "--------------------------------------------------------------\n",
    "The Zen of Python, by Tim Peters\n",
    "Beautiful is better than ugly.\n",
    "Explicit is better than implicit.\n",
    "Simple is better than complex.\n",
    "Complex is better than complicated.\n",
    "Flat is better than nested.\n",
    "Sparse is better than dense.\n",
    "Readability counts.\n",
    "Special cases aren't special enough to break the rules.\n",
    "Although practicality beats purity.\n",
    "Errors should never pass silently.\n",
    "Unless explicitly silenced.\n",
    "In the face of ambiguity, refuse the temptation to guess.\n",
    "There should be one -- and preferably only one -- obvious way to do it.\n",
    "Although that way may not be obvious at first unless you're Dutch.\n",
    "Now is better than never.\n",
    "Although never is often better than right now.\n",
    "If the implementation is hard to explain, it's a bad idea.\n",
    "If the implementation is easy to explain, it may be a good idea.\n",
    "Namespaces are one honking great idea -- let's do more of those!\n",
    "------------------------------------------------------------------\n",
    "an perform the following Operation:\n",
    "1.print number of lines in the zenofpython.txt file\n",
    "2.print number of words in the zenofpython.txt file\n",
    "3.Print how may python keyword present in the zenofpython.txt file\n",
    "4.print the all content in uppercase"
   ]
  },
  {
   "cell_type": "code",
   "execution_count": 11,
   "id": "60537b83-5d23-430a-ae87-07f180278582",
   "metadata": {},
   "outputs": [
    {
     "name": "stdout",
     "output_type": "stream",
     "text": [
      "Number of Lines in the file: 20\n",
      "Number of Words in the file: 143\n",
      "Number of python keywords in the file:14\n",
      "\n",
      "THE ZEN OF PYTHON, BY TIM PETERS\n",
      "BEAUTIFUL IS BETTER THAN UGLY.\n",
      "EXPLICIT IS BETTER THAN IMPLICIT.\n",
      "SIMPLE IS BETTER THAN COMPLEX.\n",
      "COMPLEX IS BETTER THAN COMPLICATED.\n",
      "FLAT IS BETTER THAN NESTED.\n",
      "SPARSE IS BETTER THAN DENSE.\n",
      "READABILITY COUNTS.\n",
      "SPECIAL CASES AREN'T SPECIAL ENOUGH TO BREAK THE RULES.\n",
      "ALTHOUGH PRACTICALITY BEATS PURITY.\n",
      "ERRORS SHOULD NEVER PASS SILENTLY.\n",
      "UNLESS EXPLICITLY SILENCED.\n",
      "IN THE FACE OF AMBIGUITY, REFUSE THE TEMPTATION TO GUESS.\n",
      "THERE SHOULD BE ONE -- AND PREFERABLY ONLY ONE -- OBVIOUS WAY TO DO IT.\n",
      "ALTHOUGH THAT WAY MAY NOT BE OBVIOUS AT FIRST UNLESS YOU'RE DUTCH.\n",
      "NOW IS BETTER THAN NEVER.\n",
      "ALTHOUGH NEVER IS OFTEN BETTER THAN RIGHT NOW.\n",
      "IF THE IMPLEMENTATION IS HARD TO EXPLAIN, IT'S A BAD IDEA.\n",
      "IF THE IMPLEMENTATION IS EASY TO EXPLAIN, IT MAY BE A GOOD IDEA.\n",
      "NAMESPACES ARE ONE HONKING GREAT IDEA -- LET'S DO MORE OF THOSE!\n",
      "\n"
     ]
    }
   ],
   "source": [
    "import keyword\n",
    "file1=open(\"zenofpython.txt\",\"w+\")\n",
    "content=\"The Zen of Python, by Tim Peters\\nBeautiful is better than ugly.\\nExplicit is better than implicit.\\nSimple is better than complex.\\nComplex is better than complicated.\\nFlat is better than nested.\\nSparse is better than dense.\\nReadability counts.\\nSpecial cases aren't special enough to break the rules.\\nAlthough practicality beats purity.\\nErrors should never pass silently.\\nUnless explicitly silenced.\\nIn the face of ambiguity, refuse the temptation to guess.\\nThere should be one -- and preferably only one -- obvious way to do it.\\nAlthough that way may not be obvious at first unless you're Dutch.\\nNow is better than never.\\nAlthough never is often better than right now.\\nIf the implementation is hard to explain, it's a bad idea.\\nIf the implementation is easy to explain, it may be a good idea.\\nNamespaces are one honking great idea -- let's do more of those!\\n\"\n",
    "file1.write(content)\n",
    "file1.seek(0)\n",
    "count=0\n",
    "for i in file1.readlines():\n",
    "    count+=1\n",
    "print(f\"Number of Lines in the file: {count}\")\n",
    "file1.seek(0)\n",
    "words=(((file1.read()).replace(\"--\",\"\")).replace(\".\",\"\")).split()\n",
    "print(f\"Number of Words in the file: {len(words)}\")\n",
    "count=0\n",
    "for j in words:\n",
    "    if j in keyword.kwlist:\n",
    "        count+=1\n",
    "print(f\"Number of python keywords in the file:{count}\\n\")\n",
    "file1.seek(0)\n",
    "print((file1.read()).upper())"
   ]
  },
  {
   "cell_type": "code",
   "execution_count": null,
   "id": "8c70ac43-aa36-47f1-9037-0be327a8f9b9",
   "metadata": {},
   "outputs": [],
   "source": []
  },
  {
   "cell_type": "code",
   "execution_count": null,
   "id": "5dc92b99-739a-4f12-b518-bab6be09fd16",
   "metadata": {},
   "outputs": [],
   "source": []
  },
  {
   "cell_type": "code",
   "execution_count": null,
   "id": "ef4068fa-7da4-4513-9e6d-10901fbc2d1c",
   "metadata": {},
   "outputs": [],
   "source": []
  },
  {
   "cell_type": "code",
   "execution_count": null,
   "id": "ded8e8f8-af7a-4950-a828-7dfcfde72dd9",
   "metadata": {},
   "outputs": [],
   "source": []
  }
 ],
 "metadata": {
  "kernelspec": {
   "display_name": "Python 3 (ipykernel)",
   "language": "python",
   "name": "python3"
  },
  "language_info": {
   "codemirror_mode": {
    "name": "ipython",
    "version": 3
   },
   "file_extension": ".py",
   "mimetype": "text/x-python",
   "name": "python",
   "nbconvert_exporter": "python",
   "pygments_lexer": "ipython3",
   "version": "3.9.7"
  }
 },
 "nbformat": 4,
 "nbformat_minor": 5
}
