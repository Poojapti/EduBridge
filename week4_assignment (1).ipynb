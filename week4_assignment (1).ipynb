{
 "cells": [
  {
   "cell_type": "markdown",
   "id": "6fd0998e-3f51-4ada-a060-2175e4d2ce17",
   "metadata": {},
   "source": [
    "Q1.TEAM ASSESMENTS\n",
    "\n",
    "The Team Leader of Testing team of XYZ company decided to assess the team members by organising a programming event. So he gave the team a task.\n",
    "The task is given an array of size N, find the number of distinct elements in the array and print them in ascending order. Those members who answer, will get some reward.\n",
    "Write a program to help the Team Leader to evaluate the solutions of the team members.\n",
    "\n",
    "Input format:\n",
    "The first line contains a single integer that denotes the size of the array, N.\n",
    "The second line contains N space separated integer values of the array.\n",
    "\n",
    "Output format:\n",
    "The first line is an integer that denotes the number of the distinct elements i nthe array.\n",
    "The second line is a series of integers seperated by space that denotes the distinct elements.\n",
    "\n",
    "Sample Input 1:\n",
    "5\n",
    "1 2 1 2 1\n",
    "Sample Output 1:\n",
    "2\n",
    "1 2\n",
    "\n",
    "Sample Input 2:\n",
    "5\n",
    "145 25 21 25 36\n",
    "Sample Output 2:\n",
    "4\n",
    "21 25 36 145"
   ]
  },
  {
   "cell_type": "code",
   "execution_count": 21,
   "id": "7f7e6dce-abc6-479f-9f19-fb357166454d",
   "metadata": {},
   "outputs": [
    {
     "name": "stdin",
     "output_type": "stream",
     "text": [
      "  5\n",
      "\n",
      " 145 25 21 25 36 \n"
     ]
    },
    {
     "name": "stdout",
     "output_type": "stream",
     "text": [
      "145 25 21 36\n"
     ]
    }
   ],
   "source": [
    "n = int(input(\" \"))#Enter number of elements :\n",
    "  \n",
    "# Below line read inputs from user using map() function \n",
    "a = list(map(int,input(\"\\n\").strip().split()))[:n]#Enter the numbers \n",
    "myFinallist = []\n",
    "for i in a:\n",
    "    if i not in myFinallist:\n",
    "                   myFinallist.append(i)\n",
    "print(*myFinallist)"
   ]
  },
  {
   "cell_type": "raw",
   "id": "0d3ec92f-04a1-4434-b099-7cdc8f323849",
   "metadata": {},
   "source": [
    "Q2.ANUSHKA’S PROBLEM\n",
    "\n",
    "Anuska has created a robot that will take instructions and work accordingly. Due to budget problem, she has set the memory low. To overcome that, she has to encode the instruction. Given the instruction S, count the consecutive characters and each character will be folowed by its frequency.\n",
    "For example, if the instruction is \"aaaabb\", the encoded instruction is \"a4b2\".\n",
    "\n",
    "Note:If the frequency is one, the count need not be printed.\n",
    "\n",
    "Input format:\n",
    "The first input is a string that denotes the instruction, S.\n",
    "\n",
    "Output format\n",
    "Output is a string that denotes the encoded string.\n",
    "\n",
    "Sample input 1:\n",
    "aaaabb\n",
    "Sample output 1:\n",
    "a4b2\n",
    "\n",
    "Sample input 2:\n",
    "sggvvvgss\n",
    "Sample output 2:\n",
    "sg2v3gs2"
   ]
  },
  {
   "cell_type": "code",
   "execution_count": 3,
   "id": "9c334b38-2c33-42f8-9906-99661cf339f6",
   "metadata": {},
   "outputs": [
    {
     "name": "stdin",
     "output_type": "stream",
     "text": [
      " sggvvvgss\n"
     ]
    },
    {
     "name": "stdout",
     "output_type": "stream",
     "text": [
      "sg2v3gs2\n"
     ]
    }
   ],
   "source": [
    "strg=input()\n",
    "s=strg[0]\n",
    "k=0\n",
    "for i in strg[1:]:\n",
    "    if i==s[k]:\n",
    "        s+=i\n",
    "        k+=1\n",
    "    elif i!=s[k]:\n",
    "        s+=\" \"\n",
    "        s+=i\n",
    "        k+=2\n",
    "st=s.split(\" \")\n",
    "string=\"\"\n",
    "for j in st:\n",
    "    if len(j)>1:\n",
    "        string+=j[0]+str(len(j))\n",
    "    else:\n",
    "        string+=j[0]\n",
    "print(string)\n",
    "    \n",
    " \n"
   ]
  },
  {
   "cell_type": "markdown",
   "id": "e22d6e1f-d1ae-43ff-a426-880ac2a3257d",
   "metadata": {},
   "source": [
    "Q3.SKILL TESTING Amar's team is assigned with a project that deals with the digital signals. He is aware that the digital signals will be represented as arrays. He wants to test his team with respect to their strength in arrays.As part of the skill testing, the task is as follows. You are given an array of integers of size N. Consider all its contiguous subarrays of length k and find the maximum sum. Do this for all k from 1 to the length of the input array. Write a program to evaluate the task done by the kids.\n",
    "\n",
    "Input format: The first line contains a single integer denotes the size of the array, N. The second line contains N-space separated integer that corresponds to the values of the array.\n",
    "\n",
    "Output format: The output consists of N-space separated integer values of the result array.\n",
    "\n",
    "Sample Input 1: 5 -1 2 1 3 -2 Sample Output 1: 3 4 6 5 3\n",
    "\n",
    "Explanation: For inputArray = [-1, 2, 1, 3, -2], the output should be [3, 2, 1, 0, 0]. The contiguous subarray of K = 1, each subarray will have 1 element. The sub-array with maximum sum is [3]. So result[0] = 3. of K = 2, each subarray will have 2 elements. The sub-array with maximum sum is [1,3]. So result[1] = 4. of K = 3, each subarray will have 3 elements. The sub-array with maximum sum is [2,1,3]. So result[2] = 6. of K = 4, each subarray will have 4 elements. The sub-array with maximum sum is [-1,2,1,3]. So result[1] = 5. of K = 5, each subarray will have 5 elements. The sub-array with maximum sum is [-1,2,1,3,-2]. So result[1] = 3. So the result array is [3, 4, 6, 5, 3].\n",
    "\n",
    "Sample Input 2: 5 2 3 2 -2 3 Sample Output 2: 3 5 7 6 8"
   ]
  },
  {
   "cell_type": "code",
   "execution_count": 10,
   "id": "0ff2f0d1-d3ad-47fa-b05b-e9e81fdb5edf",
   "metadata": {},
   "outputs": [
    {
     "name": "stdin",
     "output_type": "stream",
     "text": [
      " 5\n",
      " 2 3 2 -2 3\n"
     ]
    },
    {
     "name": "stdout",
     "output_type": "stream",
     "text": [
      "3 5 7 6 8 "
     ]
    }
   ],
   "source": [
    "size_array=int(input())\n",
    "array=list(map(int ,input().split()))\n",
    "l=[]\n",
    "for i in range(len(array)+1):\n",
    "    for j in range(i+1,len(array)+1):\n",
    "        l.append(array[i:j])\n",
    "final_list=[]\n",
    "for i in range(1,size_array+1):\n",
    "    nl=[]\n",
    "    for j in l:\n",
    "        if i==len(j):\n",
    "            nl.append(j)\n",
    "    s=list(map(sum,nl))\n",
    "    final_list.append(max(s))\n",
    "for i in final_list:\n",
    "    print(i,end=\" \")"
   ]
  },
  {
   "cell_type": "code",
   "execution_count": null,
   "id": "ecff5a2f-ef17-4573-9b8b-509d4e4bb1fe",
   "metadata": {},
   "outputs": [],
   "source": []
  },
  {
   "cell_type": "code",
   "execution_count": null,
   "id": "63d7448d-a415-47ef-93ad-0b49c88dbf9d",
   "metadata": {},
   "outputs": [],
   "source": []
  }
 ],
 "metadata": {
  "kernelspec": {
   "display_name": "Python 3 (ipykernel)",
   "language": "python",
   "name": "python3"
  },
  "language_info": {
   "codemirror_mode": {
    "name": "ipython",
    "version": 3
   },
   "file_extension": ".py",
   "mimetype": "text/x-python",
   "name": "python",
   "nbconvert_exporter": "python",
   "pygments_lexer": "ipython3",
   "version": "3.9.7"
  }
 },
 "nbformat": 4,
 "nbformat_minor": 5
}
