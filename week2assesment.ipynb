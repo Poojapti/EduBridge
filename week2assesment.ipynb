{
 "cells": [
  {
   "cell_type": "markdown",
   "id": "af71d8a5-f898-4ebc-8c5b-a9f39ebe2785",
   "metadata": {},
   "source": [
    "WEEK-2: Assignment - Probability Distribution"
   ]
  },
  {
   "cell_type": "markdown",
   "id": "9bc4224d-3e0e-4489-90f4-2f2ec05ffdf7",
   "metadata": {},
   "source": [
    "1.Calculate Probabilities Using a Binomial Distribution"
   ]
  },
  {
   "cell_type": "markdown",
   "id": "7c82b8f9-fb45-4c49-82cb-d0cd7516b08d",
   "metadata": {},
   "source": [
    "Q1.1. Pavan kumar makes 65% of his free-throw attempts. If he shoots 15 free throws, what is the probability that he makes exactly 10?"
   ]
  },
  {
   "cell_type": "code",
   "execution_count": 1,
   "id": "b896d625-20b9-438c-bdc5-ff4ecf2982ed",
   "metadata": {},
   "outputs": [],
   "source": [
    "from scipy.stats import binom"
   ]
  },
  {
   "cell_type": "code",
   "execution_count": 2,
   "id": "9a00b094-12be-4341-b1d3-984d3d6b7840",
   "metadata": {},
   "outputs": [
    {
     "data": {
      "text/plain": [
       "0.2123386834880357"
      ]
     },
     "execution_count": 2,
     "metadata": {},
     "output_type": "execute_result"
    }
   ],
   "source": [
    "binom.pmf(k=10,n=15,p=0.65)"
   ]
  },
  {
   "cell_type": "markdown",
   "id": "b780bd3f-3fe7-4388-b5d1-9628e91d588d",
   "metadata": {},
   "source": [
    "Q1.2.Shivam flips a fair coin 6 times. What is the probability that the coin lands on heads 3 times or fewer?"
   ]
  },
  {
   "cell_type": "code",
   "execution_count": 3,
   "id": "46394a46-90d4-4e3c-a0cc-3bdde6fac232",
   "metadata": {},
   "outputs": [],
   "source": [
    "from scipy.stats import binom"
   ]
  },
  {
   "cell_type": "code",
   "execution_count": 4,
   "id": "d39d6883-02ff-44eb-84be-a3ad33429cf0",
   "metadata": {},
   "outputs": [
    {
     "data": {
      "text/plain": [
       "0.65625"
      ]
     },
     "execution_count": 4,
     "metadata": {},
     "output_type": "execute_result"
    }
   ],
   "source": [
    "binom.cdf(k=3,n=6,p=0.5)"
   ]
  },
  {
   "cell_type": "markdown",
   "id": "358f90b6-8955-4b33-8537-7477035f17e5",
   "metadata": {},
   "source": [
    "Q1.3.It is known that 65% of individuals support a certain law. If 10 individuals are randomly selected, what is the probability that between 3 and 6 of them support the law?"
   ]
  },
  {
   "cell_type": "code",
   "execution_count": 5,
   "id": "48e9fdfe-4942-43e5-9820-5c151305b5ac",
   "metadata": {},
   "outputs": [],
   "source": [
    "from scipy.stats import binom"
   ]
  },
  {
   "cell_type": "code",
   "execution_count": 6,
   "id": "b4a4f910-d923-45ed-ad4b-e6116d0ee0ec",
   "metadata": {},
   "outputs": [
    {
     "data": {
      "text/plain": [
       "0.4813517184328123"
      ]
     },
     "execution_count": 6,
     "metadata": {},
     "output_type": "execute_result"
    }
   ],
   "source": [
    "binom.pmf(k=3,n=10,p=0.65)+binom.pmf(k=4,n=10,p=0.65)+binom.pmf(k=5,n=10,p=0.65)+binom.pmf(k=6,n=10,p=0.65)"
   ]
  },
  {
   "cell_type": "code",
   "execution_count": 8,
   "id": "ccdf55ac-fe00-4423-a97d-eac6945c5f03",
   "metadata": {},
   "outputs": [],
   "source": [
    "total=binom.cdf(k=10,n=10,p=0.65)\n"
   ]
  },
  {
   "cell_type": "code",
   "execution_count": 9,
   "id": "7ef65057-fe5e-46de-9934-4de0bea228fe",
   "metadata": {},
   "outputs": [
    {
     "data": {
      "text/plain": [
       "0.026024280496484368"
      ]
     },
     "execution_count": 9,
     "metadata": {},
     "output_type": "execute_result"
    }
   ],
   "source": [
    "binom.cdf(k=3,n=10,p=0.65)"
   ]
  },
  {
   "cell_type": "markdown",
   "id": "9bbd9a07-2646-4aee-a63d-117b4b34fe08",
   "metadata": {},
   "source": [
    "2.Calculate Probabilities Using a Poisson Distribution"
   ]
  },
  {
   "cell_type": "markdown",
   "id": "74ff8dce-9f1e-4169-bc84-bfc48f664f06",
   "metadata": {},
   "source": [
    "Q2.1. A store sells 4 apples per day on average. What is the probability that they will sell 6 apples on a given day?"
   ]
  },
  {
   "cell_type": "code",
   "execution_count": 10,
   "id": "4d751103-729f-4ea4-b8f2-c38b6c3240db",
   "metadata": {},
   "outputs": [],
   "source": [
    "from scipy.stats import poisson"
   ]
  },
  {
   "cell_type": "code",
   "execution_count": 11,
   "id": "8ec1316b-2751-4e3f-a093-7943657749ee",
   "metadata": {},
   "outputs": [
    {
     "data": {
      "text/plain": [
       "0.13385261753998332"
      ]
     },
     "execution_count": 11,
     "metadata": {},
     "output_type": "execute_result"
    }
   ],
   "source": [
    "poisson.pmf(4,6)"
   ]
  },
  {
   "cell_type": "markdown",
   "id": "25a40108-01f8-4916-a164-d57990a77609",
   "metadata": {},
   "source": [
    "Q2.2. A certain store sells seven footballs per day on average. What is the probability that this store sells four or less footballs in a given day?\n",
    "\n",
    " "
   ]
  },
  {
   "cell_type": "code",
   "execution_count": 3,
   "id": "20307a8e-c9c1-4212-8bcd-a0b6f2e6bdfa",
   "metadata": {},
   "outputs": [],
   "source": [
    "from scipy.stats import poisson"
   ]
  },
  {
   "cell_type": "code",
   "execution_count": 11,
   "id": "94c5c488-ff2c-4fb0-a0c2-27e81b7741a2",
   "metadata": {},
   "outputs": [
    {
     "data": {
      "text/plain": [
       "0.17299160788207146"
      ]
     },
     "execution_count": 11,
     "metadata": {},
     "output_type": "execute_result"
    }
   ],
   "source": [
    "poisson.cdf(4,7)"
   ]
  },
  {
   "cell_type": "markdown",
   "id": "82d21f9b-a7d8-48dd-8e55-e83b220f1d7f",
   "metadata": {},
   "source": [
    " \n",
    "Q2.3. A certain store sells 15 cans of tuna per day on average. What is the probability that this store sells more than 20 cans of tuna in a given day?"
   ]
  },
  {
   "cell_type": "code",
   "execution_count": 1,
   "id": "408e650b-7025-457e-92a4-518c63237dbd",
   "metadata": {},
   "outputs": [],
   "source": [
    "from scipy.stats import poisson"
   ]
  },
  {
   "cell_type": "code",
   "execution_count": 8,
   "id": "35545b03-55cf-4fe7-812c-98e3a7008835",
   "metadata": {},
   "outputs": [],
   "source": [
    "pd=poisson.cdf(20,15)"
   ]
  },
  {
   "cell_type": "code",
   "execution_count": 9,
   "id": "1c810ad5-6a15-4ce0-a5f3-22a7ed0ac046",
   "metadata": {},
   "outputs": [
    {
     "name": "stdout",
     "output_type": "stream",
     "text": [
      "0.9170290899685397\n"
     ]
    }
   ],
   "source": [
    "print(pd)"
   ]
  },
  {
   "cell_type": "code",
   "execution_count": 10,
   "id": "d12b81fc-8441-4f53-aa98-51924cc74564",
   "metadata": {},
   "outputs": [
    {
     "data": {
      "text/plain": [
       "0.08297091003146029"
      ]
     },
     "execution_count": 10,
     "metadata": {},
     "output_type": "execute_result"
    }
   ],
   "source": [
    "1-pd"
   ]
  },
  {
   "cell_type": "markdown",
   "id": "21860c72-9462-468f-8320-ad29c2b346ed",
   "metadata": {},
   "source": [
    "3.Calculate Probabilities Using a Uniform Distribution\n"
   ]
  },
  {
   "cell_type": "markdown",
   "id": "c4c53bc7-3726-48b9-a166-ef2f55fb3325",
   "metadata": {},
   "source": [
    "Q3.1. Suppose a bus shows up at a bus stop every 20 minutes. If you arrive at the bus stop, what is the probability that the bus will show up in 8 minutes or less?\n",
    "\n"
   ]
  },
  {
   "cell_type": "code",
   "execution_count": 13,
   "id": "f9c35cad-bad6-4a0e-aed4-ce73c33d88ab",
   "metadata": {},
   "outputs": [],
   "source": [
    "from scipy.stats import uniform"
   ]
  },
  {
   "cell_type": "code",
   "execution_count": 14,
   "id": "7298c7f5-37e6-498c-afc5-ff0494665b6f",
   "metadata": {},
   "outputs": [
    {
     "data": {
      "text/plain": [
       "0.4"
      ]
     },
     "execution_count": 14,
     "metadata": {},
     "output_type": "execute_result"
    }
   ],
   "source": [
    "uniform.cdf(x=8, loc=0, scale=20) - uniform.cdf(x=0, loc=0, scale=20)"
   ]
  },
  {
   "cell_type": "markdown",
   "id": "5ce836a1-26f5-44e2-96ab-b02c628fddae",
   "metadata": {},
   "source": [
    "Q3.2.The weight of a certain species of frog is uniformly distributed between 15 and 25 grams. If you randomly select a frog, what is the probability that the frog weighs between 17 and 19 grams?\n",
    "\n"
   ]
  },
  {
   "cell_type": "code",
   "execution_count": 15,
   "id": "18b1ae6e-7c37-43b9-92c8-3ea1ab4b131c",
   "metadata": {},
   "outputs": [],
   "source": [
    "from scipy.stats import uniform"
   ]
  },
  {
   "cell_type": "code",
   "execution_count": 16,
   "id": "337a015f-3892-4afa-8e85-60ac0bdfb79a",
   "metadata": {},
   "outputs": [
    {
     "data": {
      "text/plain": [
       "0.2"
      ]
     },
     "execution_count": 16,
     "metadata": {},
     "output_type": "execute_result"
    }
   ],
   "source": [
    "uniform.cdf(x=19, loc=15, scale=10) - uniform.cdf(x=17, loc=15, scale=10)"
   ]
  },
  {
   "cell_type": "markdown",
   "id": "fe03fd03-6268-4747-8d15-d8f52d30acf2",
   "metadata": {},
   "source": [
    "Q3.3.The length of an NBA game is uniformly distributed between 120 and 170 minutes. What is the probability that a randomly selected NBA game lasts more than 150 minutes?\n",
    "\n"
   ]
  },
  {
   "cell_type": "code",
   "execution_count": 18,
   "id": "75677a56-6cd3-417d-8967-cae8bc6da63a",
   "metadata": {},
   "outputs": [
    {
     "data": {
      "text/plain": [
       "0.4"
      ]
     },
     "execution_count": 18,
     "metadata": {},
     "output_type": "execute_result"
    }
   ],
   "source": [
    "from scipy.stats import uniform\n",
    "uniform.cdf(x=1700, loc=120, scale=50) - uniform.cdf(x=150, loc=120, scale=50)\n"
   ]
  },
  {
   "cell_type": "markdown",
   "id": "c092f0ff-eb74-4bf3-8c2b-82b4800eeb90",
   "metadata": {},
   "source": [
    "4.Calculate Probabilities Using a Normal Distribution\n"
   ]
  },
  {
   "cell_type": "markdown",
   "id": "18dbc291-c0ff-41bc-b74e-e3ac86375e9c",
   "metadata": {},
   "source": [
    "Q4.1.A radar unit is used to measure speeds of cars on a motorway. The speeds are normally distributed with a mean of 90 km/hr and a standard deviation of 10 km/hr. What is the probability that a car picked at random is travelling at more than 100 km/hr?\n",
    "\n"
   ]
  },
  {
   "cell_type": "code",
   "execution_count": 4,
   "id": "e6fc4542-efaf-4ba5-bec3-6f0044db34ab",
   "metadata": {},
   "outputs": [],
   "source": [
    "import numpy as np"
   ]
  },
  {
   "cell_type": "code",
   "execution_count": 5,
   "id": "621132f3-1503-4df7-b05f-ad0452184897",
   "metadata": {},
   "outputs": [],
   "source": [
    "from scipy.stats import norm"
   ]
  },
  {
   "cell_type": "code",
   "execution_count": 10,
   "id": "c17429f6-ca2f-4804-9248-8116a5646aeb",
   "metadata": {},
   "outputs": [
    {
     "data": {
      "text/plain": [
       "0.15865525393145707"
      ]
     },
     "execution_count": 10,
     "metadata": {},
     "output_type": "execute_result"
    }
   ],
   "source": [
    "1-norm(loc=90,scale=10).cdf(100)"
   ]
  },
  {
   "cell_type": "raw",
   "id": "17e8cab9-aebb-4308-b91b-f8c03f89842a",
   "metadata": {},
   "source": []
  },
  {
   "cell_type": "markdown",
   "id": "3b11523c-1eea-4c9a-b065-70e40609edf9",
   "metadata": {},
   "source": [
    "Q4.2.For a certain type of computers, the length of time bewteen charges of the battery is normally distributed with a mean of 50 hours and a standard deviation of 15 hours. John owns one of these computers and wants to know the probability that the length of time will be between 50 and 70 hours.\n",
    "\n"
   ]
  },
  {
   "cell_type": "code",
   "execution_count": 13,
   "id": "2308e852-9147-4065-a297-549983f43822",
   "metadata": {},
   "outputs": [
    {
     "data": {
      "text/plain": [
       "0.4087887802741321"
      ]
     },
     "execution_count": 13,
     "metadata": {},
     "output_type": "execute_result"
    }
   ],
   "source": [
    "import numpy as np\n",
    "from scipy.stats import norm\n",
    "norm(loc=50,scale=15).cdf(70)-norm(loc=50,scale=15).cdf(50)"
   ]
  },
  {
   "cell_type": "markdown",
   "id": "80e6913f-5e58-4f7e-9368-737f8e8cc2be",
   "metadata": {},
   "source": [
    "Q4.3.Entry to a certain University is determined by a national test. The scores on this test are normally distributed with a mean of 500 and a standard deviation of 100. Tom wants to be admitted to this university and he knows that he must score better than at least 70% of the students who took the test. Tom takes the test and scores 585. Will he be admitted to this university?\n",
    "\n"
   ]
  },
  {
   "cell_type": "code",
   "execution_count": 3,
   "id": "6eefc855-1dec-4598-a2eb-952803a8741d",
   "metadata": {},
   "outputs": [
    {
     "data": {
      "text/plain": [
       "0.8023374568773076"
      ]
     },
     "execution_count": 3,
     "metadata": {},
     "output_type": "execute_result"
    }
   ],
   "source": [
    "from scipy.stats import norm\n",
    "norm(loc=500,scale=100).cdf(585)"
   ]
  },
  {
   "cell_type": "code",
   "execution_count": null,
   "id": "766b6c74-a777-4a5d-b6e7-7ea7316beeda",
   "metadata": {},
   "outputs": [],
   "source": []
  }
 ],
 "metadata": {
  "kernelspec": {
   "display_name": "Python 3 (ipykernel)",
   "language": "python",
   "name": "python3"
  },
  "language_info": {
   "codemirror_mode": {
    "name": "ipython",
    "version": 3
   },
   "file_extension": ".py",
   "mimetype": "text/x-python",
   "name": "python",
   "nbconvert_exporter": "python",
   "pygments_lexer": "ipython3",
   "version": "3.9.7"
  }
 },
 "nbformat": 4,
 "nbformat_minor": 5
}
